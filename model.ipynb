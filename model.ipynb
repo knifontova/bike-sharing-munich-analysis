{
 "cells": [
  {
   "cell_type": "code",
   "execution_count": 1,
   "id": "f55b1293-a201-4a13-8c62-0d6f61aef66e",
   "metadata": {
    "tags": []
   },
   "outputs": [],
   "source": [
    "import pandas as pd\n",
    "import numpy as np\n",
    "import matplotlib.pyplot as plt\n",
    "from matplotlib.pyplot import figure\n",
    "import seaborn as sns\n",
    "from sklearn import datasets, preprocessing, model_selection, linear_model, metrics"
   ]
  },
  {
   "cell_type": "code",
   "execution_count": 2,
   "id": "d74239c5-61c0-41c4-b3fb-354bec7b6bf8",
   "metadata": {
    "tags": []
   },
   "outputs": [],
   "source": [
    "# Final dataset uploading\n",
    "df = pd.read_csv(\"./data/data_final.csv\").set_index('Row').drop(['Unnamed: 0'], axis=1)"
   ]
  },
  {
   "cell_type": "code",
   "execution_count": 3,
   "id": "757a9fdb-e7cd-49b4-b2b9-ed3e5e9e660b",
   "metadata": {
    "tags": []
   },
   "outputs": [
    {
     "data": {
      "text/html": [
       "<div>\n",
       "<style scoped>\n",
       "    .dataframe tbody tr th:only-of-type {\n",
       "        vertical-align: middle;\n",
       "    }\n",
       "\n",
       "    .dataframe tbody tr th {\n",
       "        vertical-align: top;\n",
       "    }\n",
       "\n",
       "    .dataframe thead th {\n",
       "        text-align: right;\n",
       "    }\n",
       "</style>\n",
       "<table border=\"1\" class=\"dataframe\">\n",
       "  <thead>\n",
       "    <tr style=\"text-align: right;\">\n",
       "      <th></th>\n",
       "      <th>Date</th>\n",
       "      <th>Hour</th>\n",
       "      <th>Air_Temperature</th>\n",
       "      <th>Median_duration</th>\n",
       "      <th>Precipitation</th>\n",
       "      <th>Trips_count</th>\n",
       "      <th>Wind</th>\n",
       "      <th>After_Lockdown</th>\n",
       "      <th>Before_Lockdown</th>\n",
       "      <th>PopDens_start</th>\n",
       "      <th>...</th>\n",
       "      <th>Weekend_AR</th>\n",
       "      <th>Weekend_Ev</th>\n",
       "      <th>Weekend_Md</th>\n",
       "      <th>Weekend_MR</th>\n",
       "      <th>Weekend_N</th>\n",
       "      <th>Industrial_end</th>\n",
       "      <th>Mixed_end</th>\n",
       "      <th>Recreational_end</th>\n",
       "      <th>Residential_end</th>\n",
       "      <th>University_end</th>\n",
       "    </tr>\n",
       "  </thead>\n",
       "  <tbody>\n",
       "    <tr>\n",
       "      <th>0</th>\n",
       "      <td>2016-01-01</td>\n",
       "      <td>0</td>\n",
       "      <td>5.2</td>\n",
       "      <td>61.0</td>\n",
       "      <td>0.1</td>\n",
       "      <td>1</td>\n",
       "      <td>0.4</td>\n",
       "      <td>0</td>\n",
       "      <td>1</td>\n",
       "      <td>2259.438852</td>\n",
       "      <td>...</td>\n",
       "      <td>0</td>\n",
       "      <td>0</td>\n",
       "      <td>0</td>\n",
       "      <td>0</td>\n",
       "      <td>0</td>\n",
       "      <td>0.000000</td>\n",
       "      <td>0.000000</td>\n",
       "      <td>0.000000</td>\n",
       "      <td>1.000000</td>\n",
       "      <td>0.000000</td>\n",
       "    </tr>\n",
       "    <tr>\n",
       "      <th>1</th>\n",
       "      <td>2016-01-01</td>\n",
       "      <td>1</td>\n",
       "      <td>4.7</td>\n",
       "      <td>13.5</td>\n",
       "      <td>0.0</td>\n",
       "      <td>6</td>\n",
       "      <td>0.9</td>\n",
       "      <td>0</td>\n",
       "      <td>1</td>\n",
       "      <td>3133.837398</td>\n",
       "      <td>...</td>\n",
       "      <td>0</td>\n",
       "      <td>0</td>\n",
       "      <td>0</td>\n",
       "      <td>0</td>\n",
       "      <td>0</td>\n",
       "      <td>0.000000</td>\n",
       "      <td>0.666667</td>\n",
       "      <td>0.166667</td>\n",
       "      <td>0.166667</td>\n",
       "      <td>0.000000</td>\n",
       "    </tr>\n",
       "    <tr>\n",
       "      <th>2</th>\n",
       "      <td>2016-01-01</td>\n",
       "      <td>2</td>\n",
       "      <td>3.8</td>\n",
       "      <td>14.0</td>\n",
       "      <td>0.5</td>\n",
       "      <td>12</td>\n",
       "      <td>1.2</td>\n",
       "      <td>0</td>\n",
       "      <td>1</td>\n",
       "      <td>2445.271166</td>\n",
       "      <td>...</td>\n",
       "      <td>0</td>\n",
       "      <td>0</td>\n",
       "      <td>0</td>\n",
       "      <td>0</td>\n",
       "      <td>0</td>\n",
       "      <td>0.000000</td>\n",
       "      <td>0.666667</td>\n",
       "      <td>0.000000</td>\n",
       "      <td>0.250000</td>\n",
       "      <td>0.083333</td>\n",
       "    </tr>\n",
       "    <tr>\n",
       "      <th>3</th>\n",
       "      <td>2016-01-01</td>\n",
       "      <td>3</td>\n",
       "      <td>4.0</td>\n",
       "      <td>6.0</td>\n",
       "      <td>0.5</td>\n",
       "      <td>7</td>\n",
       "      <td>1.1</td>\n",
       "      <td>0</td>\n",
       "      <td>1</td>\n",
       "      <td>2669.160166</td>\n",
       "      <td>...</td>\n",
       "      <td>0</td>\n",
       "      <td>0</td>\n",
       "      <td>0</td>\n",
       "      <td>0</td>\n",
       "      <td>0</td>\n",
       "      <td>0.000000</td>\n",
       "      <td>0.571429</td>\n",
       "      <td>0.000000</td>\n",
       "      <td>0.428571</td>\n",
       "      <td>0.000000</td>\n",
       "    </tr>\n",
       "    <tr>\n",
       "      <th>4</th>\n",
       "      <td>2016-01-01</td>\n",
       "      <td>4</td>\n",
       "      <td>4.0</td>\n",
       "      <td>12.0</td>\n",
       "      <td>0.6</td>\n",
       "      <td>13</td>\n",
       "      <td>1.1</td>\n",
       "      <td>0</td>\n",
       "      <td>1</td>\n",
       "      <td>2093.853033</td>\n",
       "      <td>...</td>\n",
       "      <td>0</td>\n",
       "      <td>0</td>\n",
       "      <td>0</td>\n",
       "      <td>0</td>\n",
       "      <td>0</td>\n",
       "      <td>0.000000</td>\n",
       "      <td>0.538462</td>\n",
       "      <td>0.076923</td>\n",
       "      <td>0.384615</td>\n",
       "      <td>0.000000</td>\n",
       "    </tr>\n",
       "    <tr>\n",
       "      <th>...</th>\n",
       "      <td>...</td>\n",
       "      <td>...</td>\n",
       "      <td>...</td>\n",
       "      <td>...</td>\n",
       "      <td>...</td>\n",
       "      <td>...</td>\n",
       "      <td>...</td>\n",
       "      <td>...</td>\n",
       "      <td>...</td>\n",
       "      <td>...</td>\n",
       "      <td>...</td>\n",
       "      <td>...</td>\n",
       "      <td>...</td>\n",
       "      <td>...</td>\n",
       "      <td>...</td>\n",
       "      <td>...</td>\n",
       "      <td>...</td>\n",
       "      <td>...</td>\n",
       "      <td>...</td>\n",
       "      <td>...</td>\n",
       "      <td>...</td>\n",
       "    </tr>\n",
       "    <tr>\n",
       "      <th>60513</th>\n",
       "      <td>2022-12-31</td>\n",
       "      <td>19</td>\n",
       "      <td>11.9</td>\n",
       "      <td>13.0</td>\n",
       "      <td>0.0</td>\n",
       "      <td>63</td>\n",
       "      <td>2.4</td>\n",
       "      <td>1</td>\n",
       "      <td>0</td>\n",
       "      <td>2259.438852</td>\n",
       "      <td>...</td>\n",
       "      <td>0</td>\n",
       "      <td>1</td>\n",
       "      <td>0</td>\n",
       "      <td>0</td>\n",
       "      <td>0</td>\n",
       "      <td>0.031746</td>\n",
       "      <td>0.761905</td>\n",
       "      <td>0.031746</td>\n",
       "      <td>0.095238</td>\n",
       "      <td>0.063492</td>\n",
       "    </tr>\n",
       "    <tr>\n",
       "      <th>60514</th>\n",
       "      <td>2022-12-31</td>\n",
       "      <td>20</td>\n",
       "      <td>12.1</td>\n",
       "      <td>13.0</td>\n",
       "      <td>0.0</td>\n",
       "      <td>27</td>\n",
       "      <td>2.4</td>\n",
       "      <td>1</td>\n",
       "      <td>0</td>\n",
       "      <td>1753.144218</td>\n",
       "      <td>...</td>\n",
       "      <td>0</td>\n",
       "      <td>1</td>\n",
       "      <td>0</td>\n",
       "      <td>0</td>\n",
       "      <td>0</td>\n",
       "      <td>0.000000</td>\n",
       "      <td>0.555556</td>\n",
       "      <td>0.074074</td>\n",
       "      <td>0.259259</td>\n",
       "      <td>0.111111</td>\n",
       "    </tr>\n",
       "    <tr>\n",
       "      <th>60515</th>\n",
       "      <td>2022-12-31</td>\n",
       "      <td>21</td>\n",
       "      <td>11.0</td>\n",
       "      <td>15.0</td>\n",
       "      <td>0.0</td>\n",
       "      <td>16</td>\n",
       "      <td>2.2</td>\n",
       "      <td>1</td>\n",
       "      <td>0</td>\n",
       "      <td>2496.734592</td>\n",
       "      <td>...</td>\n",
       "      <td>0</td>\n",
       "      <td>1</td>\n",
       "      <td>0</td>\n",
       "      <td>0</td>\n",
       "      <td>0</td>\n",
       "      <td>0.000000</td>\n",
       "      <td>0.625000</td>\n",
       "      <td>0.000000</td>\n",
       "      <td>0.375000</td>\n",
       "      <td>0.000000</td>\n",
       "    </tr>\n",
       "    <tr>\n",
       "      <th>60516</th>\n",
       "      <td>2022-12-31</td>\n",
       "      <td>22</td>\n",
       "      <td>10.7</td>\n",
       "      <td>12.0</td>\n",
       "      <td>0.0</td>\n",
       "      <td>26</td>\n",
       "      <td>2.3</td>\n",
       "      <td>1</td>\n",
       "      <td>0</td>\n",
       "      <td>2016.231626</td>\n",
       "      <td>...</td>\n",
       "      <td>0</td>\n",
       "      <td>0</td>\n",
       "      <td>0</td>\n",
       "      <td>0</td>\n",
       "      <td>1</td>\n",
       "      <td>0.000000</td>\n",
       "      <td>0.307692</td>\n",
       "      <td>0.000000</td>\n",
       "      <td>0.423077</td>\n",
       "      <td>0.038462</td>\n",
       "    </tr>\n",
       "    <tr>\n",
       "      <th>60517</th>\n",
       "      <td>2022-12-31</td>\n",
       "      <td>23</td>\n",
       "      <td>10.6</td>\n",
       "      <td>17.0</td>\n",
       "      <td>0.0</td>\n",
       "      <td>33</td>\n",
       "      <td>2.5</td>\n",
       "      <td>1</td>\n",
       "      <td>0</td>\n",
       "      <td>2069.027430</td>\n",
       "      <td>...</td>\n",
       "      <td>0</td>\n",
       "      <td>0</td>\n",
       "      <td>0</td>\n",
       "      <td>0</td>\n",
       "      <td>1</td>\n",
       "      <td>0.060606</td>\n",
       "      <td>0.363636</td>\n",
       "      <td>0.484848</td>\n",
       "      <td>0.030303</td>\n",
       "      <td>0.060606</td>\n",
       "    </tr>\n",
       "  </tbody>\n",
       "</table>\n",
       "<p>60518 rows × 29 columns</p>\n",
       "</div>"
      ],
      "text/plain": [
       "             Date  Hour  Air_Temperature  Median_duration  Precipitation  \\\n",
       "0      2016-01-01     0              5.2             61.0            0.1   \n",
       "1      2016-01-01     1              4.7             13.5            0.0   \n",
       "2      2016-01-01     2              3.8             14.0            0.5   \n",
       "3      2016-01-01     3              4.0              6.0            0.5   \n",
       "4      2016-01-01     4              4.0             12.0            0.6   \n",
       "...           ...   ...              ...              ...            ...   \n",
       "60513  2022-12-31    19             11.9             13.0            0.0   \n",
       "60514  2022-12-31    20             12.1             13.0            0.0   \n",
       "60515  2022-12-31    21             11.0             15.0            0.0   \n",
       "60516  2022-12-31    22             10.7             12.0            0.0   \n",
       "60517  2022-12-31    23             10.6             17.0            0.0   \n",
       "\n",
       "       Trips_count  Wind  After_Lockdown  Before_Lockdown  PopDens_start  ...  \\\n",
       "0                1   0.4               0                1    2259.438852  ...   \n",
       "1                6   0.9               0                1    3133.837398  ...   \n",
       "2               12   1.2               0                1    2445.271166  ...   \n",
       "3                7   1.1               0                1    2669.160166  ...   \n",
       "4               13   1.1               0                1    2093.853033  ...   \n",
       "...            ...   ...             ...              ...            ...  ...   \n",
       "60513           63   2.4               1                0    2259.438852  ...   \n",
       "60514           27   2.4               1                0    1753.144218  ...   \n",
       "60515           16   2.2               1                0    2496.734592  ...   \n",
       "60516           26   2.3               1                0    2016.231626  ...   \n",
       "60517           33   2.5               1                0    2069.027430  ...   \n",
       "\n",
       "       Weekend_AR  Weekend_Ev  Weekend_Md  Weekend_MR  Weekend_N  \\\n",
       "0               0           0           0           0          0   \n",
       "1               0           0           0           0          0   \n",
       "2               0           0           0           0          0   \n",
       "3               0           0           0           0          0   \n",
       "4               0           0           0           0          0   \n",
       "...           ...         ...         ...         ...        ...   \n",
       "60513           0           1           0           0          0   \n",
       "60514           0           1           0           0          0   \n",
       "60515           0           1           0           0          0   \n",
       "60516           0           0           0           0          1   \n",
       "60517           0           0           0           0          1   \n",
       "\n",
       "       Industrial_end  Mixed_end  Recreational_end  Residential_end  \\\n",
       "0            0.000000   0.000000          0.000000         1.000000   \n",
       "1            0.000000   0.666667          0.166667         0.166667   \n",
       "2            0.000000   0.666667          0.000000         0.250000   \n",
       "3            0.000000   0.571429          0.000000         0.428571   \n",
       "4            0.000000   0.538462          0.076923         0.384615   \n",
       "...               ...        ...               ...              ...   \n",
       "60513        0.031746   0.761905          0.031746         0.095238   \n",
       "60514        0.000000   0.555556          0.074074         0.259259   \n",
       "60515        0.000000   0.625000          0.000000         0.375000   \n",
       "60516        0.000000   0.307692          0.000000         0.423077   \n",
       "60517        0.060606   0.363636          0.484848         0.030303   \n",
       "\n",
       "       University_end  \n",
       "0            0.000000  \n",
       "1            0.000000  \n",
       "2            0.083333  \n",
       "3            0.000000  \n",
       "4            0.000000  \n",
       "...               ...  \n",
       "60513        0.063492  \n",
       "60514        0.111111  \n",
       "60515        0.000000  \n",
       "60516        0.038462  \n",
       "60517        0.060606  \n",
       "\n",
       "[60518 rows x 29 columns]"
      ]
     },
     "execution_count": 3,
     "metadata": {},
     "output_type": "execute_result"
    }
   ],
   "source": [
    "# Data aggregarion by hours\n",
    "df_pivot =  pd.pivot_table(df, index=['Date','hour'],\n",
    "                                      values=['STARTLAT', 'Duration_minutes', 'distance', \n",
    "                                              'Air_Temperature', 'Precipitation_mm', 'Wind_velocity_ms',\n",
    "                                             'if_week_morning_rush','if_week_afternoon_rush','if_week_midday',\n",
    "                                             'if_week_evening', 'if_week_night', 'if_weekend_morning_rush',\n",
    "                                             'if_weekend_afternoon_rush', 'if_weekend_midday', 'if_weekend_evening',\n",
    "                                             'if_weekend_night', 'first_lockdown','after_lockdown', 'before_lockdown',\n",
    "                                             'buildPOP_start', 'residential_end', 'mixed_end', 'recreational_end',\n",
    "                                             'university_end', 'commercial_end', 'industrial_end', 'farmland_end'],\n",
    "                                      aggfunc={'STARTLAT': 'count',\n",
    "                                              'Duration_minutes': np.median,\n",
    "                                              'distance': np.median,\n",
    "                                              'Air_Temperature': np.median,\n",
    "                                               'Precipitation_mm': np.median,\n",
    "                                               'Wind_velocity_ms': np.median,\n",
    "                                               'if_week_morning_rush': np.median,\n",
    "                                               'if_week_afternoon_rush': np.median,\n",
    "                                               'if_week_midday': np.median,\n",
    "                                               'if_week_evening': np.median,\n",
    "                                               'if_week_night': np.median,\n",
    "                                               'if_weekend_morning_rush': np.median,\n",
    "                                               'if_weekend_afternoon_rush': np.median,\n",
    "                                               'if_weekend_midday': np.median,\n",
    "                                               'if_weekend_evening': np.median,\n",
    "                                               'if_weekend_night': np.median,\n",
    "                                               'first_lockdown': np.median,\n",
    "                                               'after_lockdown': np.median,\n",
    "                                               'before_lockdown': np.median,\n",
    "                                               'buildPOP_start': np.median, \n",
    "                                               'residential_end': np.mean, \n",
    "                                               'mixed_end': np.mean, \n",
    "                                               'recreational_end': np.mean,\n",
    "                                               'university_end': np.mean, \n",
    "                                               'commercial_end': np.mean, \n",
    "                                               'industrial_end': np.mean, \n",
    "                                               'farmland_end': np.mean\n",
    "                                              }).reset_index()\n",
    "df_pivot.columns = ['Date','Hour','Air_Temperature','Median_duration',\n",
    "                    'Precipitation', 'Trips_count', 'Wind', 'After_Lockdown', \n",
    "                    'Before_Lockdown', 'PopDens_start', 'Commercial_end', 'Median_distance', \n",
    "                    'Farmland_end','During_Lockdown', 'Week_AR',\n",
    "                    'Week_Ev', 'Week_Md', 'Week_MR', 'Week_N', 'Weekend_AR',\n",
    "                   'Weekend_Ev', 'Weekend_Md', 'Weekend_MR', 'Weekend_N',\n",
    "                    'Industrial_end', 'Mixed_end', 'Recreational_end', 'Residential_end', 'University_end']\n",
    "df_pivot"
   ]
  },
  {
   "cell_type": "code",
   "execution_count": 4,
   "id": "16f65d95-a120-46c5-9b97-c73a08532ca1",
   "metadata": {
    "tags": []
   },
   "outputs": [],
   "source": [
    "# Data cleansing from NULL values\n",
    "rows_with_missing_values = df_pivot[df_pivot.isnull().any(axis=1)]\n",
    "df_cln = df_pivot.dropna()"
   ]
  },
  {
   "cell_type": "markdown",
   "id": "aaeef739-f313-45db-89c2-55b591d94c70",
   "metadata": {
    "tags": []
   },
   "source": [
    "### Polynomial regression model"
   ]
  },
  {
   "cell_type": "code",
   "execution_count": 5,
   "id": "9ed22135-dadd-475d-ba85-bcdead9275db",
   "metadata": {
    "tags": []
   },
   "outputs": [],
   "source": [
    "from sklearn.model_selection import train_test_split\n",
    "from sklearn.linear_model import LinearRegression\n",
    "from sklearn.preprocessing import PolynomialFeatures\n",
    "from sklearn.metrics import mean_squared_error, r2_score\n",
    "from math import sqrt\n",
    "\n",
    "# Feature selection: weather conditions (air temperature, precipitation, wind), \n",
    "# periods of the lockdown (before, during, after), population density at start of the trip,\n",
    "# land use type at end of the trip (commercial, agricultural, industrial, mixed, recreational, residentional, educational),\n",
    "# time of the week (weekdays and weekends divided into different parts of the day)\n",
    "X = df_cln[['Air_Temperature', 'Precipitation', 'Wind',\n",
    "            'After_Lockdown', 'During_Lockdown','Before_Lockdown',\n",
    "            'PopDens_start',\n",
    "            'Commercial_end', 'Farmland_end', 'Industrial_end', \n",
    "            'Mixed_end', 'Recreational_end', 'Residential_end', 'University_end',\n",
    "            'Week_AR', 'Week_Ev', 'Week_Md', 'Week_MR', 'Week_N', \n",
    "            'Weekend_AR','Weekend_Ev', 'Weekend_Md', 'Weekend_MR', 'Weekend_N']]\n",
    "\n",
    "# Target variables definition\n",
    "y_trips = df_cln['Trips_count']\n",
    "y_duration = df_cln['Median_duration']\n",
    "y_distance = df_cln['Median_distance']"
   ]
  },
  {
   "cell_type": "markdown",
   "id": "34541cdb-0528-41a6-b280-4e7df456032f",
   "metadata": {
    "tags": []
   },
   "source": [
    "#### Polynomial regression model for amount of trips (degree=2)"
   ]
  },
  {
   "cell_type": "code",
   "execution_count": 6,
   "id": "96f09688-6d37-4a89-8c97-611071b9977b",
   "metadata": {
    "tags": []
   },
   "outputs": [],
   "source": [
    "# Splitting the dataset into training and test datasets\n",
    "X_train, X_test, y_train, y_test = train_test_split(X, y_distance, test_size=0.2, random_state=10)\n",
    "\n",
    "# Polynomial features creation\n",
    "degree = 2\n",
    "poly = PolynomialFeatures(degree=degree)\n",
    "X_train_poly = poly.fit_transform(X_train)\n",
    "X_test_poly = poly.transform(X_test)\n",
    "\n",
    "# Fitting the polynomial regression model\n",
    "poly_model = LinearRegression()\n",
    "poly_model.fit(X_train_poly, y_train)\n",
    "\n",
    "# Making predictions\n",
    "y_pred = poly_model.predict(X_test_poly)"
   ]
  },
  {
   "cell_type": "code",
   "execution_count": 7,
   "id": "7c67ec09-0be1-46c1-994e-9f9bef155be0",
   "metadata": {
    "tags": []
   },
   "outputs": [
    {
     "name": "stdout",
     "output_type": "stream",
     "text": [
      "R-squared: 0.24687254185115493\n",
      "Root Mean Squared Error: 0.4789002179944229\n"
     ]
    }
   ],
   "source": [
    "# Evaluation of the model\n",
    "r2 = r2_score(y_test, y_pred)\n",
    "rmse = sqrt(mean_squared_error(y_test, y_pred))\n",
    "print(f'R-squared: {r2}')\n",
    "print(f'Root Mean Squared Error: {rmse}')"
   ]
  },
  {
   "cell_type": "code",
   "execution_count": 8,
   "id": "06ce8a1e-da20-466d-b0ff-afd3ce759136",
   "metadata": {
    "tags": []
   },
   "outputs": [
    {
     "name": "stdout",
     "output_type": "stream",
     "text": [
      "(48354, 24)\n",
      "(48354,)\n",
      "(12089, 24)\n",
      "(12089,)\n"
     ]
    }
   ],
   "source": [
    "# Description of training and test sets\n",
    "print(X_train.shape)\n",
    "print(y_train.shape)\n",
    "print(X_test.shape)\n",
    "print(y_test.shape)"
   ]
  },
  {
   "cell_type": "code",
   "execution_count": 9,
   "id": "0d8792a9-5090-4788-a54d-986edfd278d5",
   "metadata": {
    "tags": []
   },
   "outputs": [
    {
     "data": {
      "image/png": "[encoded data removed]",
      "text/plain": [
       "<Figure size 1000x500 with 1 Axes>"
      ]
     },
     "metadata": {},
     "output_type": "display_data"
    }
   ],
   "source": [
    "# Visualisation\n",
    "plt.figure(figsize=(10, 5))\n",
    "sns.scatterplot(x=y_test, y=y_pred, s=4)\n",
    "plt.plot([min(y_test), max(y_test)], [min(y_test), max(y_test)], color='maroon', linestyle='-', lw=2)\n",
    "plt.xlabel('Actual amount of trips')\n",
    "plt.ylabel('Predicted amount of trips')\n",
    "plt.title('Polynomial regression results for amount of trips (aggregated by hours)')\n",
    "plt.grid(True)\n",
    "plt.show()"
   ]
  },
  {
   "cell_type": "markdown",
   "id": "75052a6a-8945-4468-9f68-34b07b3aaab2",
   "metadata": {},
   "source": [
    "#### Polynomial regression model for amount of trips (degree=3)"
   ]
  },
  {
   "cell_type": "code",
   "execution_count": 10,
   "id": "3f110541-0ccc-4341-8527-e8df6ed5ae31",
   "metadata": {
    "tags": []
   },
   "outputs": [],
   "source": [
    "# Splitting the dataset into training and test datasets\n",
    "X_train, X_test, y_train, y_test = train_test_split(X, y_trips, test_size=0.2, random_state=10)\n",
    "\n",
    "# Polynomial features creation\n",
    "degree = 3\n",
    "poly = PolynomialFeatures(degree=degree)\n",
    "X_train_poly = poly.fit_transform(X_train)\n",
    "X_test_poly = poly.transform(X_test)\n",
    "\n",
    "# Fitting the polynomial regression model\n",
    "poly_model = LinearRegression()\n",
    "poly_model.fit(X_train_poly, y_train)\n",
    "\n",
    "# Making predictions\n",
    "y_pred = poly_model.predict(X_test_poly)"
   ]
  },
  {
   "cell_type": "code",
   "execution_count": 11,
   "id": "d86c51f8-fdf6-4913-a2e0-8a1835fe9e3b",
   "metadata": {
    "tags": []
   },
   "outputs": [
    {
     "name": "stdout",
     "output_type": "stream",
     "text": [
      "R-squared: 0.08309170608519656\n",
      "Root Mean Squared Error: 55.71802328911221\n"
     ]
    }
   ],
   "source": [
    "# Evaluation of the model\n",
    "r2 = r2_score(y_test, y_pred)\n",
    "rmse = sqrt(mean_squared_error(y_test, y_pred))\n",
    "print(f'R-squared: {r2}')\n",
    "print(f'Root Mean Squared Error: {rmse}')"
   ]
  },
  {
   "cell_type": "markdown",
   "id": "43d30b6c-9b00-4d10-ac72-d2179f965c61",
   "metadata": {
    "tags": []
   },
   "source": [
    "#### Polynomial regression model for median distance (degree=2)"
   ]
  },
  {
   "cell_type": "code",
   "execution_count": 57,
   "id": "56f6a57a",
   "metadata": {
    "tags": []
   },
   "outputs": [],
   "source": [
    "# Splitting the dataset into training and test datasets\n",
    "X_train, X_test, y_train, y_test = train_test_split(X, y_distance, test_size=0.2, random_state=10)\n",
    "\n",
    "# Polynomial features creation\n",
    "degree = 2\n",
    "poly = PolynomialFeatures(degree=degree)\n",
    "X_train_poly = poly.fit_transform(X_train)\n",
    "X_test_poly = poly.transform(X_test)\n",
    "\n",
    "# Fitting the polynomial regression model\n",
    "poly_model = LinearRegression()\n",
    "poly_model.fit(X_train_poly, y_train)\n",
    "\n",
    "# Making predictions\n",
    "y_pred = poly_model.predict(X_test_poly)"
   ]
  },
  {
   "cell_type": "code",
   "execution_count": 58,
   "id": "2b2e0f56",
   "metadata": {
    "tags": []
   },
   "outputs": [
    {
     "name": "stdout",
     "output_type": "stream",
     "text": [
      "R-squared: 0.24687254185115493\n",
      "Root Mean Squared Error: 0.4789002179944229\n"
     ]
    }
   ],
   "source": [
    "# Evaluation of the model\n",
    "r2 = r2_score(y_test, y_pred)\n",
    "rmse = sqrt(mean_squared_error(y_test, y_pred))\n",
    "print(f'R-squared: {r2}')\n",
    "print(f'Root Mean Squared Error: {rmse}')"
   ]
  },
  {
   "cell_type": "markdown",
   "id": "e086d091-5db6-4f1d-b23c-0100a3617074",
   "metadata": {
    "tags": []
   },
   "source": [
    "#### Polynomial regression model for median distance (degree=3)"
   ]
  },
  {
   "cell_type": "code",
   "execution_count": 29,
   "id": "d5e57430-3440-4d0c-9b31-6ac0077eff03",
   "metadata": {
    "tags": []
   },
   "outputs": [],
   "source": [
    "# Splitting the dataset into training and test datasets\n",
    "X_train, X_test, y_train, y_test = train_test_split(X, y_distance, test_size=0.2, random_state=10)\n",
    "\n",
    "# Polynomial features creation\n",
    "degree = 3\n",
    "poly = PolynomialFeatures(degree=degree)\n",
    "X_train_poly = poly.fit_transform(X_train)\n",
    "X_test_poly = poly.transform(X_test)\n",
    "\n",
    "# Fitting the polynomial regression model\n",
    "poly_model = LinearRegression()\n",
    "poly_model.fit(X_train_poly, y_train)\n",
    "\n",
    "# Making predictions\n",
    "y_pred = poly_model.predict(X_test_poly)"
   ]
  },
  {
   "cell_type": "code",
   "execution_count": 30,
   "id": "547085b7-53df-43f8-b2fb-50f63fe28369",
   "metadata": {
    "tags": []
   },
   "outputs": [
    {
     "name": "stdout",
     "output_type": "stream",
     "text": [
      "R-squared: -0.7298576173881399\n",
      "Root Mean Squared Error: 0.7257983440698366\n"
     ]
    }
   ],
   "source": [
    "# Evaluation of the model\n",
    "r2 = r2_score(y_test, y_pred)\n",
    "rmse = sqrt(mean_squared_error(y_test, y_pred))\n",
    "print(f'R-squared: {r2}')\n",
    "print(f'Root Mean Squared Error: {rmse}')"
   ]
  },
  {
   "cell_type": "markdown",
   "id": "213132f0-0032-4964-97f2-69cdc7e256ff",
   "metadata": {
    "tags": []
   },
   "source": [
    "#### Polynomial regression model for median duration (degree=2)"
   ]
  },
  {
   "cell_type": "code",
   "execution_count": 31,
   "id": "e1e11a9c-bf31-4f8e-ae23-4e05ab26e721",
   "metadata": {
    "tags": []
   },
   "outputs": [],
   "source": [
    "# Splitting the dataset into training and test datasets\n",
    "X_train, X_test, y_train, y_test = train_test_split(X, y_duration, test_size=0.2, random_state=10)\n",
    "\n",
    "# Polynomial features creation\n",
    "degree = 2\n",
    "poly = PolynomialFeatures(degree=degree)\n",
    "X_train_poly = poly.fit_transform(X_train)\n",
    "X_test_poly = poly.transform(X_test)\n",
    "\n",
    "# Fitting the polynomial regression model\n",
    "poly_model = LinearRegression()\n",
    "poly_model.fit(X_train_poly, y_train)\n",
    "\n",
    "# Making predictions\n",
    "y_pred = poly_model.predict(X_test_poly)"
   ]
  },
  {
   "cell_type": "code",
   "execution_count": 32,
   "id": "2baffef2-26cb-4f10-9f74-385bbff0004b",
   "metadata": {
    "tags": []
   },
   "outputs": [
    {
     "name": "stdout",
     "output_type": "stream",
     "text": [
      "R-squared: -0.07245719163435016\n",
      "Root Mean Squared Error: 8.197251692024201\n"
     ]
    }
   ],
   "source": [
    "# Evaluation of the model\n",
    "r2 = r2_score(y_test, y_pred)\n",
    "rmse = sqrt(mean_squared_error(y_test, y_pred))\n",
    "print(f'R-squared: {r2}')\n",
    "print(f'Root Mean Squared Error: {rmse}')"
   ]
  },
  {
   "cell_type": "markdown",
   "id": "ab9f6c51-6fb2-4e37-b5a7-e0b97268deed",
   "metadata": {
    "tags": []
   },
   "source": [
    "#### Polynomial regression model for median duration (degree=3)"
   ]
  },
  {
   "cell_type": "code",
   "execution_count": 33,
   "id": "df1cb9af-1918-41b7-90ee-f060461a82db",
   "metadata": {
    "tags": []
   },
   "outputs": [],
   "source": [
    "# Splitting the dataset into training and test datasets\n",
    "X_train, X_test, y_train, y_test = train_test_split(X, y_duration, test_size=0.2, random_state=10)\n",
    "\n",
    "# Polynomial features creation\n",
    "degree = 3\n",
    "poly = PolynomialFeatures(degree=degree)\n",
    "X_train_poly = poly.fit_transform(X_train)\n",
    "X_test_poly = poly.transform(X_test)\n",
    "\n",
    "# Fitting the polynomial regression model\n",
    "poly_model = LinearRegression()\n",
    "poly_model.fit(X_train_poly, y_train)\n",
    "\n",
    "# Making predictions\n",
    "y_pred = poly_model.predict(X_test_poly)"
   ]
  },
  {
   "cell_type": "code",
   "execution_count": 34,
   "id": "38e28988-007f-4880-95c8-7a411c0a4f79",
   "metadata": {
    "tags": []
   },
   "outputs": [
    {
     "name": "stdout",
     "output_type": "stream",
     "text": [
      "R-squared: -0.8794424819191475\n",
      "Root Mean Squared Error: 10.851575759114489\n"
     ]
    }
   ],
   "source": [
    "# Evaluation of the model\n",
    "r2 = r2_score(y_test, y_pred)\n",
    "rmse = sqrt(mean_squared_error(y_test, y_pred))\n",
    "print(f'R-squared: {r2}')\n",
    "print(f'Root Mean Squared Error: {rmse}')"
   ]
  },
  {
   "cell_type": "markdown",
   "id": "110dfa67-0556-4710-98f5-518c02c02d66",
   "metadata": {},
   "source": [
    "### Decision Trees regression model"
   ]
  },
  {
   "cell_type": "code",
   "execution_count": 35,
   "id": "dd21e255-a446-4fbe-b2b3-f674eb793018",
   "metadata": {
    "tags": []
   },
   "outputs": [],
   "source": [
    "from sklearn.tree import DecisionTreeRegressor\n",
    "\n",
    "# Feature selection: weather conditions (air temperature, precipitation, wind), \n",
    "# periods of the lockdown (before, during, after), population density at start of the trip,\n",
    "# land use type at end of the trip (commercial, agricultural, industrial, mixed, recreational, residentional, educational),\n",
    "# time of the week (weekdays and weekends divided into different parts of the day)\n",
    "X = df_cln[['Air_Temperature', 'Precipitation', 'Wind',\n",
    "            'After_Lockdown', 'During_Lockdown','Before_Lockdown',\n",
    "            'PopDens_start',\n",
    "            'Commercial_end', 'Farmland_end', 'Industrial_end', \n",
    "            'Mixed_end', 'Recreational_end', 'Residential_end', 'University_end',\n",
    "            'Week_AR', 'Week_Ev', 'Week_Md', 'Week_MR', 'Week_N', \n",
    "            'Weekend_AR','Weekend_Ev', 'Weekend_Md', 'Weekend_MR', 'Weekend_N']]\n",
    "\n",
    "# Target variable definition\n",
    "y_trips = df_cln['Trips_count']\n",
    "y_duration = df_cln['Median_duration']\n",
    "y_distance = df_cln['Median_distance']"
   ]
  },
  {
   "cell_type": "markdown",
   "id": "d7928411-fc28-451e-83c1-c7c3348b14fe",
   "metadata": {},
   "source": [
    "#### Decision Trees regression model for amount of trips (max_depth=None)"
   ]
  },
  {
   "cell_type": "code",
   "execution_count": 37,
   "id": "3a501548-3b7a-428a-a524-352e7f057b6f",
   "metadata": {
    "tags": []
   },
   "outputs": [
    {
     "name": "stdout",
     "output_type": "stream",
     "text": [
      "R-squared: 0.5968835557952377\n",
      "Root Mean Squared Error: 36.94434806569882\n"
     ]
    }
   ],
   "source": [
    "# Splitting the dataset into training and test datasets\n",
    "X_train, X_test, y_train, y_test = train_test_split(X, y_trips, test_size=0.2, random_state=10)\n",
    "\n",
    "# Creating and fitting the model\n",
    "decision_tree_model = DecisionTreeRegressor(random_state=10, max_depth=None) \n",
    "decision_tree_model.fit(X_train, y_train)\n",
    "\n",
    "# Making predictions\n",
    "y_pred = decision_tree_model.predict(X_test)\n",
    "\n",
    "# Evaluation of the model\n",
    "r2 = r2_score(y_test, y_pred)\n",
    "rmse = sqrt(mean_squared_error(y_test, y_pred))\n",
    "print(f'R-squared: {r2}')\n",
    "print(f'Root Mean Squared Error: {rmse}')"
   ]
  },
  {
   "cell_type": "markdown",
   "id": "3b8f4ead-fb13-413b-af7f-6582ef10530d",
   "metadata": {},
   "source": [
    "#### Decision Trees regression model for amount of trips (max_depth=3)"
   ]
  },
  {
   "cell_type": "code",
   "execution_count": 38,
   "id": "cefd707a-5d6c-4c15-8d9a-2894514d9917",
   "metadata": {
    "tags": []
   },
   "outputs": [
    {
     "name": "stdout",
     "output_type": "stream",
     "text": [
      "R-squared: 0.5161778921255735\n",
      "Root Mean Squared Error: 40.47395127969643\n"
     ]
    }
   ],
   "source": [
    "# Splitting the dataset into training and test datasets\n",
    "X_train, X_test, y_train, y_test = train_test_split(X, y_trips, test_size=0.2, random_state=10)\n",
    "\n",
    "# Creating and fitting the model\n",
    "decision_tree_model = DecisionTreeRegressor(random_state=10, max_depth=3) \n",
    "decision_tree_model.fit(X_train, y_train)\n",
    "\n",
    "# Making predictions\n",
    "y_pred = decision_tree_model.predict(X_test)\n",
    "\n",
    "# Evaluation of the model\n",
    "r2 = r2_score(y_test, y_pred)\n",
    "rmse = sqrt(mean_squared_error(y_test, y_pred))\n",
    "print(f'R-squared: {r2}')\n",
    "print(f'Root Mean Squared Error: {rmse}')"
   ]
  },
  {
   "cell_type": "markdown",
   "id": "8f12e981-d6dc-4360-a9db-d56f7024998e",
   "metadata": {},
   "source": [
    "#### Decision Trees regression model for amount of trips (max_depth=10)"
   ]
  },
  {
   "cell_type": "code",
   "execution_count": 60,
   "id": "23529d45-c662-4aad-8230-b1fc215195aa",
   "metadata": {
    "tags": []
   },
   "outputs": [
    {
     "name": "stdout",
     "output_type": "stream",
     "text": [
      "R-squared: 0.7281067866440846\n",
      "Root Mean Squared Error: 30.34114274397508\n"
     ]
    }
   ],
   "source": [
    "# Splitting the dataset into training and test datasets\n",
    "X_train, X_test, y_train, y_test = train_test_split(X, y_trips, test_size=0.2, random_state=10)\n",
    "\n",
    "# Creating and fitting the model\n",
    "decision_tree_model = DecisionTreeRegressor(random_state=10, max_depth=10) \n",
    "decision_tree_model.fit(X_train, y_train)\n",
    "\n",
    "# Making predictions\n",
    "y_pred = decision_tree_model.predict(X_test)\n",
    "\n",
    "# Evaluation of the model\n",
    "r2 = r2_score(y_test, y_pred)\n",
    "rmse = sqrt(mean_squared_error(y_test, y_pred))\n",
    "print(f'R-squared: {r2}')\n",
    "print(f'Root Mean Squared Error: {rmse}')"
   ]
  },
  {
   "cell_type": "code",
   "execution_count": 62,
   "id": "cec8f71b-90b0-4528-a5a7-b9bdd4da5fd4",
   "metadata": {
    "tags": []
   },
   "outputs": [
    {
     "data": {
      "image/png": "[encoded data removed]",
      "text/plain": [
       "<Figure size 1000x500 with 1 Axes>"
      ]
     },
     "metadata": {},
     "output_type": "display_data"
    }
   ],
   "source": [
    "# Visualisation\n",
    "plt.figure(figsize=(10, 5))\n",
    "sns.scatterplot(x=y_test, y=y_pred, s=4)\n",
    "plt.plot([min(y_test), max(y_test)], [min(y_test), max(y_test)], color='maroon', linestyle='-', lw=2)\n",
    "plt.xlabel('Actual amount of trips')\n",
    "plt.ylabel('Predicted amount of trips')\n",
    "plt.title('Decision Trees regression results for amount of trips (aggregated by hours)')\n",
    "plt.grid(True)\n",
    "plt.show()"
   ]
  },
  {
   "cell_type": "markdown",
   "id": "16a41cd2-ae97-4e85-8b97-8e088dec5fad",
   "metadata": {},
   "source": [
    "#### Decision Trees regression model for median distance (max_depth=None)"
   ]
  },
  {
   "cell_type": "code",
   "execution_count": 43,
   "id": "26bb3f56-2a77-47fa-aefe-8c8d255fa654",
   "metadata": {
    "tags": []
   },
   "outputs": [
    {
     "name": "stdout",
     "output_type": "stream",
     "text": [
      "R-squared: -2.1628390828672748\n",
      "Root Mean Squared Error: 14.077217978365708\n"
     ]
    }
   ],
   "source": [
    "# Splitting the dataset into training and test datasets\n",
    "X_train, X_test, y_train, y_test = train_test_split(X, y_duration, test_size=0.2, random_state=10)\n",
    "\n",
    "# Creating and fitting the model\n",
    "decision_tree_model = DecisionTreeRegressor(random_state=10, max_depth=None) \n",
    "decision_tree_model.fit(X_train, y_train)\n",
    "\n",
    "# Making predictions\n",
    "y_pred = decision_tree_model.predict(X_test)\n",
    "\n",
    "# Evaluation of the model\n",
    "r2 = r2_score(y_test, y_pred)\n",
    "rmse = sqrt(mean_squared_error(y_test, y_pred))\n",
    "print(f'R-squared: {r2}')\n",
    "print(f'Root Mean Squared Error: {rmse}')"
   ]
  },
  {
   "cell_type": "markdown",
   "id": "d19ab46a-3625-4e15-a689-45d5955a2dc3",
   "metadata": {},
   "source": [
    "#### Decision Trees regression model for median distance (max_depth=3)"
   ]
  },
  {
   "cell_type": "code",
   "execution_count": 44,
   "id": "c4b6dd8c-7e6e-41b2-ace3-59fd51632e20",
   "metadata": {
    "tags": []
   },
   "outputs": [
    {
     "name": "stdout",
     "output_type": "stream",
     "text": [
      "R-squared: -0.006676356685875184\n",
      "Root Mean Squared Error: 7.9418781857545655\n"
     ]
    }
   ],
   "source": [
    "# Splitting the dataset into training and test datasets\n",
    "X_train, X_test, y_train, y_test = train_test_split(X, y_duration, test_size=0.2, random_state=10)\n",
    "\n",
    "# Creating and fitting the model\n",
    "decision_tree_model = DecisionTreeRegressor(random_state=10, max_depth=3) \n",
    "decision_tree_model.fit(X_train, y_train)\n",
    "\n",
    "# Making predictions\n",
    "y_pred = decision_tree_model.predict(X_test)\n",
    "\n",
    "# Evaluation of the model\n",
    "r2 = r2_score(y_test, y_pred)\n",
    "rmse = sqrt(mean_squared_error(y_test, y_pred))\n",
    "print(f'R-squared: {r2}')\n",
    "print(f'Root Mean Squared Error: {rmse}')"
   ]
  },
  {
   "cell_type": "markdown",
   "id": "47c01ced-07b1-4083-b540-bbc4e2ecef05",
   "metadata": {},
   "source": [
    "#### Decision Trees regression model for median distance (max_depth=10)"
   ]
  },
  {
   "cell_type": "code",
   "execution_count": 45,
   "id": "e6037f1b-c2c7-4340-ab85-72d58ec13dc3",
   "metadata": {
    "tags": []
   },
   "outputs": [
    {
     "name": "stdout",
     "output_type": "stream",
     "text": [
      "R-squared: -1.319758846439858\n",
      "Root Mean Squared Error: 12.055901941889609\n"
     ]
    }
   ],
   "source": [
    "# Splitting the dataset into training and test datasets\n",
    "X_train, X_test, y_train, y_test = train_test_split(X, y_duration, test_size=0.2, random_state=10)\n",
    "\n",
    "# Creating and fitting the model\n",
    "decision_tree_model = DecisionTreeRegressor(random_state=10, max_depth=10) \n",
    "decision_tree_model.fit(X_train, y_train)\n",
    "\n",
    "# Making predictions\n",
    "y_pred = decision_tree_model.predict(X_test)\n",
    "\n",
    "# Evaluation of the model\n",
    "r2 = r2_score(y_test, y_pred)\n",
    "rmse = sqrt(mean_squared_error(y_test, y_pred))\n",
    "print(f'R-squared: {r2}')\n",
    "print(f'Root Mean Squared Error: {rmse}')"
   ]
  },
  {
   "cell_type": "markdown",
   "id": "46dc868a-127a-4cb2-9f55-2e8f49fe82ae",
   "metadata": {},
   "source": [
    "#### Decision Trees regression model for median duration (max_depth=None)"
   ]
  },
  {
   "cell_type": "code",
   "execution_count": 43,
   "id": "5be3b0f9",
   "metadata": {
    "tags": []
   },
   "outputs": [
    {
     "name": "stdout",
     "output_type": "stream",
     "text": [
      "R-squared: -2.1628390828672748\n",
      "Root Mean Squared Error: 14.077217978365708\n"
     ]
    }
   ],
   "source": [
    "# Splitting the dataset into training and test datasets\n",
    "X_train, X_test, y_train, y_test = train_test_split(X, y_duration, test_size=0.2, random_state=10)\n",
    "\n",
    "# Creating and fitting the model\n",
    "decision_tree_model = DecisionTreeRegressor(random_state=10, max_depth=None) \n",
    "decision_tree_model.fit(X_train, y_train)\n",
    "\n",
    "# Making predictions\n",
    "y_pred = decision_tree_model.predict(X_test)\n",
    "\n",
    "# Evaluation of the model\n",
    "r2 = r2_score(y_test, y_pred)\n",
    "rmse = sqrt(mean_squared_error(y_test, y_pred))\n",
    "print(f'R-squared: {r2}')\n",
    "print(f'Root Mean Squared Error: {rmse}')"
   ]
  },
  {
   "cell_type": "markdown",
   "id": "690235d6-59b9-4667-bdf3-03c33dd51ace",
   "metadata": {},
   "source": [
    "#### Decision Trees regression model for median duration (max_depth=3)"
   ]
  },
  {
   "cell_type": "code",
   "execution_count": 44,
   "id": "27e4bee9",
   "metadata": {
    "tags": []
   },
   "outputs": [
    {
     "name": "stdout",
     "output_type": "stream",
     "text": [
      "R-squared: -0.006676356685875184\n",
      "Root Mean Squared Error: 7.9418781857545655\n"
     ]
    }
   ],
   "source": [
    "# Splitting the dataset into training and test datasets\n",
    "X_train, X_test, y_train, y_test = train_test_split(X, y_duration, test_size=0.2, random_state=10)\n",
    "\n",
    "# Creating and fitting the model\n",
    "decision_tree_model = DecisionTreeRegressor(random_state=10, max_depth=3) \n",
    "decision_tree_model.fit(X_train, y_train)\n",
    "\n",
    "# Making predictions\n",
    "y_pred = decision_tree_model.predict(X_test)\n",
    "\n",
    "# Evaluation of the model\n",
    "r2 = r2_score(y_test, y_pred)\n",
    "rmse = sqrt(mean_squared_error(y_test, y_pred))\n",
    "print(f'R-squared: {r2}')\n",
    "print(f'Root Mean Squared Error: {rmse}')"
   ]
  },
  {
   "cell_type": "markdown",
   "id": "e8b517df-c33e-4717-ae7f-8c86beb25c5b",
   "metadata": {},
   "source": [
    "#### Decision Trees regression model for median duration (max_depth=10)"
   ]
  },
  {
   "cell_type": "code",
   "execution_count": 45,
   "id": "7cb06dc7",
   "metadata": {
    "tags": []
   },
   "outputs": [
    {
     "name": "stdout",
     "output_type": "stream",
     "text": [
      "R-squared: -1.319758846439858\n",
      "Root Mean Squared Error: 12.055901941889609\n"
     ]
    }
   ],
   "source": [
    "# Splitting the dataset into training and test datasets\n",
    "X_train, X_test, y_train, y_test = train_test_split(X, y_duration, test_size=0.2, random_state=10)\n",
    "\n",
    "# Creating and fitting the model\n",
    "decision_tree_model = DecisionTreeRegressor(random_state=10, max_depth=10) \n",
    "decision_tree_model.fit(X_train, y_train)\n",
    "\n",
    "# Making predictions\n",
    "y_pred = decision_tree_model.predict(X_test)\n",
    "\n",
    "# Evaluation of the model\n",
    "r2 = r2_score(y_test, y_pred)\n",
    "rmse = sqrt(mean_squared_error(y_test, y_pred))\n",
    "print(f'R-squared: {r2}')\n",
    "print(f'Root Mean Squared Error: {rmse}')"
   ]
  }
 ],
 "metadata": {
  "kernelspec": {
   "display_name": "Python 3 (ipykernel)",
   "language": "python",
   "name": "python3"
  },
  "language_info": {
   "codemirror_mode": {
    "name": "ipython",
    "version": 3
   },
   "file_extension": ".py",
   "mimetype": "text/x-python",
   "name": "python",
   "nbconvert_exporter": "python",
   "pygments_lexer": "ipython3",
   "version": "3.11.5"
  }
 },
 "nbformat": 4,
 "nbformat_minor": 5
}
